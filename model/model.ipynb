{
 "cells": [
  {
   "cell_type": "code",
   "execution_count": 19,
   "id": "936b9793",
   "metadata": {},
   "outputs": [],
   "source": [
    "from huggingface_hub import InferenceClient\n",
    "client = InferenceClient()"
   ]
  },
  {
   "cell_type": "code",
   "execution_count": 20,
   "id": "f0dcf54d",
   "metadata": {},
   "outputs": [],
   "source": [
    "experience = \"\"\"\n",
    "Katie House\n",
    "katiehouse3@gmail.com\n",
    "413-800-5542\n",
    "katie-house.com  • github.com/katiehouse3 • linkedin.com/in/katiehouse\n",
    "\n",
    "EDUCATION\n",
    "Master of Science in Computer Science, Data Science Concentration\n",
    "University of Massachusetts Amherst, 3.7 GPA\n",
    "\n",
    "Bachelor of Science in Industrial Engineering, Business Minor\n",
    "Sep 2012 - May 2017\n",
    "Northeastern University, 3.8 GPA\n",
    "\n",
    "work experience\n",
    "\n",
    "Data Scientist, MassMutual, Dec 2021 - Present\n",
    "Built MassMutual’s first internal AI advisor virtual assistant using Azure OpenAI which is now accessible to 13,000 field advisors\n",
    "Led the scope, exploratory data analysis, development, pilot, production, and model monitoring of 5 end-to-end machine learning solutions realizing over $2.4M in value \n",
    "Developed an advisor success classification model that, over a year-long pilot in 7 firms, saw an average monthly lift in profitability of $77,000 between the high and low scorers\n",
    "Submitted a patent application for work in Mixed Media Model optimization of marketing spend \n",
    "Won the 2022 MassMutual Python Month of Code competition competing against 7 teams\n",
    "\n",
    "Jr. Data Scientist, MassMutual, Jun 2020 - Dec 2021\n",
    "Spearheaded the production of a Marketing Mix Model (MMM) for Haven Life that optimized marketing spend and saved an average of $963 marketing dollars per policy in the pilot period\n",
    "Optimized the allocation of over $13M of MassMutual’s marketing spend in both digital and non-digital channels using non-linear constrained optimization and regression modeling\n",
    "\n",
    "Research Assistant/Programmer, Reich Lab\n",
    "Built the original COVID-19 Forecast Hub, a centralized repository for COVID-19 forecasting in collaboration with the CDC, which has been referenced in over 100 news outlets including the NYTimes and FiveThirtyEight \n",
    "Presented a poster on forecasting at the Models of Infectious Disease Agent Study (MIDAS) conference\n",
    "Apr 2018 - May 2020\n",
    "\n",
    "OTHER RELEVANT EXPERIENCE\n",
    "Publications: Co-authored 5 publications on the COVID-19 forecasting hub, one of which has over 200 citations and 19,000 views\n",
    "Volunteering: Mentored over 20 underrepresented students in the REBLS leadership program\n",
    "HackHer413 Founder: Founded the first first all-female and non-binary student hackathon in Western Massachusetts (Jan - May 2019)\n",
    "\n",
    "Technical Skills\n",
    "Data Science: LLMs, ensemble models, neural networks, optimization, hypothesis testing\n",
    "Technologies: Azure, AWS, Scikit-learn, Pandas, Git, Jenkins CI/CD, Docker\n",
    "Languages: Python, SQL, R, JavaScript, HTML, CSS\n",
    "\n",
    "\"\"\""
   ]
  },
  {
   "cell_type": "code",
   "execution_count": 44,
   "id": "4a972105",
   "metadata": {},
   "outputs": [],
   "source": [
    "from huggingface_hub import InferenceClient\n",
    "\n",
    "query = \"How much value has Katie made for MassMutual?\"\n",
    "\n",
    "prompt = f\"\"\"\n",
    "You are a helpful chatbot who answers questions about Katie's experience. \n",
    "\n",
    "\n",
    "Katie's experience is in the triple brackets below. Answer questions based on the experience.\n",
    "```\n",
    "{experience}\n",
    "```\n",
    "\n",
    "For example,\n",
    "User: What is katie's email?\n",
    "Response: katiehouse3@gmail.com\n",
    "\n",
    "User: What was katie's GPA?\n",
    "Response: Katie's GPA at her MS in Computer Science at UMass Amherst was 3.7\n",
    "\n",
    "User: {query}\n",
    "Response:\n",
    "\"\"\"\n",
    "\n",
    "messages = [\n",
    "    {\n",
    "        \"role\": \"user\", \n",
    "        \"content\": prompt\n",
    "    }\n",
    "]\n",
    "\n",
    "completion = client.chat.completions.create(\n",
    "    model=\"google/gemma-2-2b-it\", \n",
    "\tmessages=messages, \n",
    "\tmax_tokens=1000\n",
    ")\n"
   ]
  },
  {
   "cell_type": "code",
   "execution_count": 45,
   "id": "31b83c55",
   "metadata": {},
   "outputs": [
    {
     "name": "stdout",
     "output_type": "stream",
     "text": [
      "Katie made over $2.4 million in value for MassMutual through her machine learning solutions. \n",
      "\n"
     ]
    }
   ],
   "source": [
    "print(completion.choices[0].message.content)"
   ]
  }
 ],
 "metadata": {
  "kernelspec": {
   "display_name": "portfolio",
   "language": "python",
   "name": "python3"
  },
  "language_info": {
   "codemirror_mode": {
    "name": "ipython",
    "version": 3
   },
   "file_extension": ".py",
   "mimetype": "text/x-python",
   "name": "python",
   "nbconvert_exporter": "python",
   "pygments_lexer": "ipython3",
   "version": "3.10.4"
  }
 },
 "nbformat": 4,
 "nbformat_minor": 5
}
